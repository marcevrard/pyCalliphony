{
 "cells": [
  {
   "cell_type": "markdown",
   "metadata": {},
   "source": [
    "### Intro"
   ]
  },
  {
   "cell_type": "code",
   "execution_count": 30,
   "metadata": {
    "collapsed": true
   },
   "outputs": [],
   "source": [
    "# from __future__ import unicode_literals, print_function, absolute_import, division\n",
    "# try:\n",
    "#     from future_builtins import ascii, hex, filter, map, oct, zip\n",
    "# except ImportError:\n",
    "#     pass"
   ]
  },
  {
   "cell_type": "code",
   "execution_count": 31,
   "metadata": {
    "collapsed": true
   },
   "outputs": [],
   "source": [
    "%reset  -sf\n",
    "# -sf  # (s for soft, f for forced without approval)\n",
    "%matplotlib inline"
   ]
  },
  {
   "cell_type": "code",
   "execution_count": 32,
   "metadata": {
    "collapsed": true
   },
   "outputs": [],
   "source": [
    "import pandas as pd\n",
    "import numpy as np\n",
    "import matplotlib.pyplot as plt\n",
    "from scipy import interpolate\n",
    "import os.path"
   ]
  },
  {
   "cell_type": "code",
   "execution_count": 33,
   "metadata": {
    "collapsed": true
   },
   "outputs": [],
   "source": [
    "import sys\n",
    "sys.path.append('/Volumes/Python/pyCalliphony')\n",
    "from savitzki_golay import savitzky_golay"
   ]
  },
  {
   "cell_type": "markdown",
   "metadata": {},
   "source": [
    "### Constants"
   ]
  },
  {
   "cell_type": "code",
   "execution_count": 34,
   "metadata": {
    "collapsed": false
   },
   "outputs": [],
   "source": [
    "# HEADERS = ('cpu_time', 'raw_pos', 'f0', 'x', 'y')\n",
    "HEADERS = ('cpu_time', 'raw_pos', 'f0')\n",
    "FRAME_DUR = 0.005\n",
    "FS = 48000\n",
    "# FS_ERROR_CORR = 44.1/48  # NOTE: temporary fix, put at 1 to neutralize\n",
    "FS_ERROR_CORR = 1\n",
    "\n",
    "frame_points = int(round(FRAME_DUR*FS * FS_ERROR_CORR))"
   ]
  },
  {
   "cell_type": "markdown",
   "metadata": {},
   "source": [
    "##### Paths  `# << FILE NAME TO UPDATE! >>`"
   ]
  },
  {
   "cell_type": "code",
   "execution_count": 35,
   "metadata": {
    "collapsed": false
   },
   "outputs": [
    {
     "name": "stdout",
     "output_type": "stream",
     "text": [
      "OK: limsi_fr_tat_0006_perf_01.txt is well there.\n"
     ]
    }
   ],
   "source": [
    "FNAME = 'limsi_fr_tat_0006_perf_01.txt'  # << FNAME TO UPDATE! >>\n",
    "PATH = '/Users/mev/Desktop/__IS2015__/__IS2015__/DATA/DEBUG/colere_tst48k_7'\n",
    "FPATH = os.path.join(PATH, FNAME)\n",
    "if os.path.isfile(FPATH):\n",
    "    print('OK:', FNAME, 'is well there.')\n",
    "else:\n",
    "    raise ValueError(\"File {} is not present in the given path!\".format(FPATH))"
   ]
  },
  {
   "cell_type": "markdown",
   "metadata": {},
   "source": [
    "### Main"
   ]
  },
  {
   "cell_type": "markdown",
   "metadata": {},
   "source": [
    "Reshape according to the headers num and all row (-1)"
   ]
  },
  {
   "cell_type": "code",
   "execution_count": 36,
   "metadata": {
    "collapsed": false
   },
   "outputs": [
    {
     "data": {
      "text/html": [
       "<div style=\"max-height:1000px;max-width:1500px;overflow:auto;\">\n",
       "<table border=\"1\" class=\"dataframe\">\n",
       "  <thead>\n",
       "    <tr style=\"text-align: right;\">\n",
       "      <th></th>\n",
       "      <th>cpu_time</th>\n",
       "      <th>time_raw_pos</th>\n",
       "      <th>raw_pos</th>\n",
       "      <th>f0</th>\n",
       "    </tr>\n",
       "  </thead>\n",
       "  <tbody>\n",
       "    <tr>\n",
       "      <th>0</th>\n",
       "      <td> 1.426009e+09</td>\n",
       "      <td> 0.00175</td>\n",
       "      <td>  84</td>\n",
       "      <td> 290.575653</td>\n",
       "    </tr>\n",
       "    <tr>\n",
       "      <th>1</th>\n",
       "      <td> 1.426009e+09</td>\n",
       "      <td> 0.00350</td>\n",
       "      <td> 168</td>\n",
       "      <td> 290.539612</td>\n",
       "    </tr>\n",
       "    <tr>\n",
       "      <th>2</th>\n",
       "      <td> 1.426009e+09</td>\n",
       "      <td> 0.00525</td>\n",
       "      <td> 252</td>\n",
       "      <td> 290.539612</td>\n",
       "    </tr>\n",
       "    <tr>\n",
       "      <th>3</th>\n",
       "      <td> 1.426009e+09</td>\n",
       "      <td> 0.00700</td>\n",
       "      <td> 336</td>\n",
       "      <td> 290.521576</td>\n",
       "    </tr>\n",
       "    <tr>\n",
       "      <th>4</th>\n",
       "      <td> 1.426009e+09</td>\n",
       "      <td> 0.00875</td>\n",
       "      <td> 420</td>\n",
       "      <td> 290.521576</td>\n",
       "    </tr>\n",
       "  </tbody>\n",
       "</table>\n",
       "</div>"
      ],
      "text/plain": [
       "       cpu_time  time_raw_pos  raw_pos          f0\n",
       "0  1.426009e+09       0.00175       84  290.575653\n",
       "1  1.426009e+09       0.00350      168  290.539612\n",
       "2  1.426009e+09       0.00525      252  290.539612\n",
       "3  1.426009e+09       0.00700      336  290.521576\n",
       "4  1.426009e+09       0.00875      420  290.521576"
      ]
     },
     "execution_count": 36,
     "metadata": {},
     "output_type": "execute_result"
    }
   ],
   "source": [
    "coord_arr = np.genfromtxt(FPATH).reshape(-1, len(HEADERS))\n",
    "coord_df = pd.DataFrame(coord_arr, columns=HEADERS)\n",
    "coord_df.insert(1, 'time_raw_pos', coord_df['raw_pos'] / FS)\n",
    "\n",
    "coord_df['f0'] *= FS_ERROR_CORR  # **CORRECT WRONG FS**\n",
    "\n",
    "# Show the 5 first rows\n",
    "coord_df[:5]"
   ]
  },
  {
   "cell_type": "code",
   "execution_count": 37,
   "metadata": {
    "collapsed": false
   },
   "outputs": [
    {
     "data": {
      "text/html": [
       "<div style=\"max-height:1000px;max-width:1500px;overflow:auto;\">\n",
       "<table border=\"1\" class=\"dataframe\">\n",
       "  <thead>\n",
       "    <tr style=\"text-align: right;\">\n",
       "      <th></th>\n",
       "      <th>cpu_time</th>\n",
       "      <th>time_raw_pos</th>\n",
       "      <th>raw_pos</th>\n",
       "      <th>f0</th>\n",
       "    </tr>\n",
       "  </thead>\n",
       "  <tbody>\n",
       "    <tr>\n",
       "      <th>1858</th>\n",
       "      <td> 1.426009e+09</td>\n",
       "      <td> 2.906958</td>\n",
       "      <td> 139534</td>\n",
       "      <td> 577.787231</td>\n",
       "    </tr>\n",
       "    <tr>\n",
       "      <th>1859</th>\n",
       "      <td> 1.426009e+09</td>\n",
       "      <td> 2.921958</td>\n",
       "      <td> 140254</td>\n",
       "      <td> 577.787231</td>\n",
       "    </tr>\n",
       "    <tr>\n",
       "      <th>1860</th>\n",
       "      <td> 1.426009e+09</td>\n",
       "      <td> 2.936958</td>\n",
       "      <td> 140974</td>\n",
       "      <td> 577.787231</td>\n",
       "    </tr>\n",
       "    <tr>\n",
       "      <th>1861</th>\n",
       "      <td> 1.426009e+09</td>\n",
       "      <td> 2.951958</td>\n",
       "      <td> 141694</td>\n",
       "      <td> 577.787231</td>\n",
       "    </tr>\n",
       "    <tr>\n",
       "      <th>1862</th>\n",
       "      <td> 1.426009e+09</td>\n",
       "      <td> 2.966958</td>\n",
       "      <td> 142414</td>\n",
       "      <td> 577.787231</td>\n",
       "    </tr>\n",
       "  </tbody>\n",
       "</table>\n",
       "</div>"
      ],
      "text/plain": [
       "          cpu_time  time_raw_pos  raw_pos          f0\n",
       "1858  1.426009e+09      2.906958   139534  577.787231\n",
       "1859  1.426009e+09      2.921958   140254  577.787231\n",
       "1860  1.426009e+09      2.936958   140974  577.787231\n",
       "1861  1.426009e+09      2.951958   141694  577.787231\n",
       "1862  1.426009e+09      2.966958   142414  577.787231"
      ]
     },
     "execution_count": 37,
     "metadata": {},
     "output_type": "execute_result"
    }
   ],
   "source": [
    "# Show the 5 last rows\n",
    "coord_df[-5:]"
   ]
  },
  {
   "cell_type": "markdown",
   "metadata": {},
   "source": [
    "Include the original f0 file: to get the number of samples and to get the VUV param"
   ]
  },
  {
   "cell_type": "code",
   "execution_count": 38,
   "metadata": {
    "collapsed": false
   },
   "outputs": [],
   "source": [
    "main_path, coord_fname = os.path.split(FPATH)\n",
    "f0_fpath = os.path.join(main_path, '_'.join(coord_fname.split('_')[:-2]) + '.f0')\n",
    "# noinspection PyNoneFunctionAssignment\n",
    "f0_orig_arr = np.fromfile(f0_fpath, dtype='f4')\n",
    "f0_uv_idx = np.where(f0_orig_arr == 0)[0]  # Unvoiced indexes"
   ]
  },
  {
   "cell_type": "code",
   "execution_count": 39,
   "metadata": {
    "collapsed": false
   },
   "outputs": [
    {
     "data": {
      "image/png": "[encoded data removed]",
      "text/plain": [
       "<matplotlib.figure.Figure at 0x107df6c50>"
      ]
     },
     "metadata": {},
     "output_type": "display_data"
    }
   ],
   "source": [
    "# print('f0_uv_idx:', f0_uv_idx)\n",
    "plt.plot(f0_orig_arr)\n",
    "plt.legend(['f0_orig_arr'], loc='best');"
   ]
  },
  {
   "cell_type": "code",
   "execution_count": 40,
   "metadata": {
    "collapsed": false
   },
   "outputs": [],
   "source": [
    "# from scipy.io import wavfile\n",
    "# wav_fpath = os.path.join(main_path, '_'.join(coord_fname.split('_')[:-2]) + '.wav')\n",
    "# wav_in = wavfile.read(wav_fpath)\n",
    "# len(wav_in[1])"
   ]
  },
  {
   "cell_type": "markdown",
   "metadata": {},
   "source": [
    "Extract relative time from CPU time"
   ]
  },
  {
   "cell_type": "code",
   "execution_count": 41,
   "metadata": {
    "collapsed": false
   },
   "outputs": [],
   "source": [
    "coord_time = coord_df['cpu_time'] - coord_df.iloc[0]['cpu_time']\n",
    "coord_df.insert(1, 'time', coord_time)  # Insert in df after cpu_time column\n",
    "\n",
    "coord_df.insert(2, 'new_pos', np.round(coord_df['time']*FS))  # Insert in df after cpu_time column (ms > s)\n",
    "\n",
    "coord_df['time'] *= FS_ERROR_CORR  # **Wrong FS**"
   ]
  },
  {
   "cell_type": "code",
   "execution_count": 42,
   "metadata": {
    "collapsed": false
   },
   "outputs": [
    {
     "data": {
      "text/html": [
       "<div style=\"max-height:1000px;max-width:1500px;overflow:auto;\">\n",
       "<table border=\"1\" class=\"dataframe\">\n",
       "  <thead>\n",
       "    <tr style=\"text-align: right;\">\n",
       "      <th></th>\n",
       "      <th>cpu_time</th>\n",
       "      <th>time</th>\n",
       "      <th>new_pos</th>\n",
       "      <th>time_raw_pos</th>\n",
       "      <th>raw_pos</th>\n",
       "      <th>f0</th>\n",
       "    </tr>\n",
       "  </thead>\n",
       "  <tbody>\n",
       "    <tr>\n",
       "      <th>1858</th>\n",
       "      <td> 1.426009e+09</td>\n",
       "      <td> 289.381078</td>\n",
       "      <td> 13890292</td>\n",
       "      <td> 2.906958</td>\n",
       "      <td> 139534</td>\n",
       "      <td> 577.787231</td>\n",
       "    </tr>\n",
       "    <tr>\n",
       "      <th>1859</th>\n",
       "      <td> 1.426009e+09</td>\n",
       "      <td> 289.381328</td>\n",
       "      <td> 13890304</td>\n",
       "      <td> 2.921958</td>\n",
       "      <td> 140254</td>\n",
       "      <td> 577.787231</td>\n",
       "    </tr>\n",
       "    <tr>\n",
       "      <th>1860</th>\n",
       "      <td> 1.426009e+09</td>\n",
       "      <td> 289.381501</td>\n",
       "      <td> 13890312</td>\n",
       "      <td> 2.936958</td>\n",
       "      <td> 140974</td>\n",
       "      <td> 577.787231</td>\n",
       "    </tr>\n",
       "    <tr>\n",
       "      <th>1861</th>\n",
       "      <td> 1.426009e+09</td>\n",
       "      <td> 289.391741</td>\n",
       "      <td> 13890804</td>\n",
       "      <td> 2.951958</td>\n",
       "      <td> 141694</td>\n",
       "      <td> 577.787231</td>\n",
       "    </tr>\n",
       "    <tr>\n",
       "      <th>1862</th>\n",
       "      <td> 1.426009e+09</td>\n",
       "      <td> 289.391931</td>\n",
       "      <td> 13890813</td>\n",
       "      <td> 2.966958</td>\n",
       "      <td> 142414</td>\n",
       "      <td> 577.787231</td>\n",
       "    </tr>\n",
       "  </tbody>\n",
       "</table>\n",
       "</div>"
      ],
      "text/plain": [
       "          cpu_time        time   new_pos  time_raw_pos  raw_pos          f0\n",
       "1858  1.426009e+09  289.381078  13890292      2.906958   139534  577.787231\n",
       "1859  1.426009e+09  289.381328  13890304      2.921958   140254  577.787231\n",
       "1860  1.426009e+09  289.381501  13890312      2.936958   140974  577.787231\n",
       "1861  1.426009e+09  289.391741  13890804      2.951958   141694  577.787231\n",
       "1862  1.426009e+09  289.391931  13890813      2.966958   142414  577.787231"
      ]
     },
     "execution_count": 42,
     "metadata": {},
     "output_type": "execute_result"
    }
   ],
   "source": [
    "coord_df[-5:]"
   ]
  },
  {
   "cell_type": "code",
   "execution_count": 43,
   "metadata": {
    "collapsed": false
   },
   "outputs": [
    {
     "name": "stdout",
     "output_type": "stream",
     "text": [
      "Number of elements: 1863\n",
      "IN min: 0.00175 IN max: 4.19420833333\n",
      "OUT min: 0.0 OUT max: 289.391930819\n"
     ]
    },
    {
     "data": {
      "image/png": "[encoded data removed]",
      "text/plain": [
       "<matplotlib.figure.Figure at 0x1080ca7b8>"
      ]
     },
     "metadata": {},
     "output_type": "display_data"
    }
   ],
   "source": [
    "plt.plot(coord_df['time'], coord_df['time_raw_pos']);\n",
    "# plt.plot(coord_df['time_raw_pos'])\n",
    "# plt.legend(['time', 'time_raw_pos'], loc='best');\n",
    "print(\"Number of elements:\", len(coord_df['time']))\n",
    "print(\"IN min:\", np.min(coord_df['time_raw_pos']), \"IN max:\", np.max(coord_df['time_raw_pos']))\n",
    "print(\"OUT min:\", np.min(coord_df['time']), \"OUT max:\", np.max(coord_df['time']))"
   ]
  },
  {
   "cell_type": "markdown",
   "metadata": {},
   "source": [
    "Smooth time and f0 curves"
   ]
  },
  {
   "cell_type": "code",
   "execution_count": 44,
   "metadata": {
    "collapsed": false
   },
   "outputs": [
    {
     "data": {
      "image/png": "[encoded data removed]",
      "text/plain": [
       "<matplotlib.figure.Figure at 0x107e08e10>"
      ]
     },
     "metadata": {},
     "output_type": "display_data"
    },
    {
     "name": "stdout",
     "output_type": "stream",
     "text": [
      "Number of elements: 1863\n",
      "IN min: -0.322197722567 IN max: 4.42148267408\n",
      "OUT min: -18.5064449041 OUT max: 308.265431725\n"
     ]
    },
    {
     "data": {
      "image/png": "[encoded data removed]",
      "text/plain": [
       "<matplotlib.figure.Figure at 0x107b5f5c0>"
      ]
     },
     "metadata": {},
     "output_type": "display_data"
    }
   ],
   "source": [
    "coord_df['time_smooth'] = savitzky_golay(np.array(coord_df['time']), window_size=21, order=2)\n",
    "coord_df['pos_smooth'] = savitzky_golay(np.array(coord_df['time_raw_pos']), window_size=21, order=2)\n",
    "coord_df['f0_smooth'] = savitzky_golay(np.array(coord_df['f0']), window_size=21, order=2)\n",
    "\n",
    "# plt.plot(coord_df['time'], coord_df['time_raw_pos'], coord_df['time_smooth'], coord_df['pos_smooth'])\n",
    "# plt.legend(['time_raw_pos', 'position_smooth'], loc='best')\n",
    "plt.plot(coord_df['time'], coord_df['f0'], coord_df['time_smooth'], coord_df['f0_smooth'])\n",
    "plt.legend(['f0', 'f0_smooth'], loc='best');\n",
    "plt.show();\n",
    "plt.plot(coord_df['time'], coord_df['time_raw_pos']);\n",
    "plt.plot(coord_df['time_smooth'], coord_df['pos_smooth']);\n",
    "print(\"Number of elements:\", len(coord_df['time']))\n",
    "print(\"IN min:\", np.min(coord_df['pos_smooth']), \"IN max:\", np.max(coord_df['pos_smooth']))\n",
    "print(\"OUT min:\", np.min(coord_df['time_smooth']), \"OUT max:\", np.max(coord_df['time_smooth']))"
   ]
  },
  {
   "cell_type": "markdown",
   "metadata": {},
   "source": [
    "Warp f0 values to the original wav file time (from STRAIGHT)"
   ]
  },
  {
   "cell_type": "code",
   "execution_count": 45,
   "metadata": {
    "collapsed": false
   },
   "outputs": [
    {
     "ename": "ValueError",
     "evalue": "    Error on input data",
     "output_type": "error",
     "traceback": [
      "\u001b[0;31m---------------------------------------------------------------------------\u001b[0m",
      "\u001b[0;31mValueError\u001b[0m                                Traceback (most recent call last)",
      "\u001b[0;32m<ipython-input-45-ae24c7132fe2>\u001b[0m in \u001b[0;36m<module>\u001b[0;34m()\u001b[0m\n\u001b[1;32m      1\u001b[0m \u001b[0mposit_max\u001b[0m \u001b[0;34m=\u001b[0m \u001b[0mround\u001b[0m\u001b[0;34m(\u001b[0m\u001b[0mcoord_df\u001b[0m\u001b[0;34m[\u001b[0m\u001b[0;34m'pos_smooth'\u001b[0m\u001b[0;34m]\u001b[0m\u001b[0;34m.\u001b[0m\u001b[0miloc\u001b[0m\u001b[0;34m[\u001b[0m\u001b[0;34m-\u001b[0m\u001b[0;36m1\u001b[0m\u001b[0;34m]\u001b[0m \u001b[0;34m*\u001b[0m \u001b[0;36m2\u001b[0m\u001b[0;34m,\u001b[0m \u001b[0;36m2\u001b[0m\u001b[0;34m)\u001b[0m\u001b[0;34m/\u001b[0m\u001b[0;36m2\u001b[0m   \u001b[0;31m# get last value and round to 0.005 (0.01/2)\u001b[0m\u001b[0;34m\u001b[0m\u001b[0m\n\u001b[1;32m      2\u001b[0m \u001b[0mposit_arr\u001b[0m \u001b[0;34m=\u001b[0m \u001b[0mnp\u001b[0m\u001b[0;34m.\u001b[0m\u001b[0marange\u001b[0m\u001b[0;34m(\u001b[0m\u001b[0mstart\u001b[0m\u001b[0;34m=\u001b[0m\u001b[0mFRAME_DUR\u001b[0m\u001b[0;34m,\u001b[0m \u001b[0mstop\u001b[0m\u001b[0;34m=\u001b[0m\u001b[0mposit_max\u001b[0m\u001b[0;34m,\u001b[0m \u001b[0mstep\u001b[0m\u001b[0;34m=\u001b[0m\u001b[0mFRAME_DUR\u001b[0m\u001b[0;34m)\u001b[0m   \u001b[0;31m# TODO 0 > FRAME_LEN, better solution?\u001b[0m\u001b[0;34m\u001b[0m\u001b[0m\n\u001b[0;32m----> 3\u001b[0;31m \u001b[0mtck\u001b[0m \u001b[0;34m=\u001b[0m \u001b[0minterpolate\u001b[0m\u001b[0;34m.\u001b[0m\u001b[0msplrep\u001b[0m\u001b[0;34m(\u001b[0m\u001b[0mcoord_df\u001b[0m\u001b[0;34m[\u001b[0m\u001b[0;34m'pos_smooth'\u001b[0m\u001b[0;34m]\u001b[0m\u001b[0;34m,\u001b[0m \u001b[0mcoord_df\u001b[0m\u001b[0;34m[\u001b[0m\u001b[0;34m'f0_smooth'\u001b[0m\u001b[0;34m]\u001b[0m\u001b[0;34m,\u001b[0m \u001b[0ms\u001b[0m\u001b[0;34m=\u001b[0m\u001b[0;36m5\u001b[0m\u001b[0;34m)\u001b[0m    \u001b[0;31m# , s=10)\u001b[0m\u001b[0;34m\u001b[0m\u001b[0m\n\u001b[0m\u001b[1;32m      4\u001b[0m \u001b[0mf0_warp\u001b[0m \u001b[0;34m=\u001b[0m \u001b[0minterpolate\u001b[0m\u001b[0;34m.\u001b[0m\u001b[0msplev\u001b[0m\u001b[0;34m(\u001b[0m\u001b[0mposit_arr\u001b[0m\u001b[0;34m,\u001b[0m \u001b[0mtck\u001b[0m\u001b[0;34m,\u001b[0m \u001b[0mder\u001b[0m\u001b[0;34m=\u001b[0m\u001b[0;36m0\u001b[0m\u001b[0;34m)\u001b[0m\u001b[0;34m\u001b[0m\u001b[0m\n\u001b[1;32m      5\u001b[0m \u001b[0;34m\u001b[0m\u001b[0m\n",
      "\u001b[0;32m/usr/local/lib/python3.4/site-packages/scipy/interpolate/fitpack.py\u001b[0m in \u001b[0;36msplrep\u001b[0;34m(x, y, w, xb, xe, k, task, s, t, full_output, per, quiet)\u001b[0m\n\u001b[1;32m    513\u001b[0m         \u001b[0;32melse\u001b[0m\u001b[0;34m:\u001b[0m\u001b[0;34m\u001b[0m\u001b[0m\n\u001b[1;32m    514\u001b[0m             \u001b[0;32mtry\u001b[0m\u001b[0;34m:\u001b[0m\u001b[0;34m\u001b[0m\u001b[0m\n\u001b[0;32m--> 515\u001b[0;31m                 \u001b[0;32mraise\u001b[0m \u001b[0m_iermess\u001b[0m\u001b[0;34m[\u001b[0m\u001b[0mier\u001b[0m\u001b[0;34m]\u001b[0m\u001b[0;34m[\u001b[0m\u001b[0;36m1\u001b[0m\u001b[0;34m]\u001b[0m\u001b[0;34m(\u001b[0m\u001b[0m_iermess\u001b[0m\u001b[0;34m[\u001b[0m\u001b[0mier\u001b[0m\u001b[0;34m]\u001b[0m\u001b[0;34m[\u001b[0m\u001b[0;36m0\u001b[0m\u001b[0;34m]\u001b[0m\u001b[0;34m)\u001b[0m\u001b[0;34m\u001b[0m\u001b[0m\n\u001b[0m\u001b[1;32m    516\u001b[0m             \u001b[0;32mexcept\u001b[0m \u001b[0mKeyError\u001b[0m\u001b[0;34m:\u001b[0m\u001b[0;34m\u001b[0m\u001b[0m\n\u001b[1;32m    517\u001b[0m                 \u001b[0;32mraise\u001b[0m \u001b[0m_iermess\u001b[0m\u001b[0;34m[\u001b[0m\u001b[0;34m'unknown'\u001b[0m\u001b[0;34m]\u001b[0m\u001b[0;34m[\u001b[0m\u001b[0;36m1\u001b[0m\u001b[0;34m]\u001b[0m\u001b[0;34m(\u001b[0m\u001b[0m_iermess\u001b[0m\u001b[0;34m[\u001b[0m\u001b[0;34m'unknown'\u001b[0m\u001b[0;34m]\u001b[0m\u001b[0;34m[\u001b[0m\u001b[0;36m0\u001b[0m\u001b[0;34m]\u001b[0m\u001b[0;34m)\u001b[0m\u001b[0;34m\u001b[0m\u001b[0m\n",
      "\u001b[0;31mValueError\u001b[0m:     Error on input data"
     ]
    }
   ],
   "source": [
    "posit_max = round(coord_df['pos_smooth'].iloc[-1] * 2, 2)/2   # get last value and round to 0.005 (0.01/2)\n",
    "posit_arr = np.arange(start=FRAME_DUR, stop=posit_max, step=FRAME_DUR)   # TODO 0 > FRAME_LEN, better solution?\n",
    "tck = interpolate.splrep(coord_df['pos_smooth'], coord_df['f0_smooth'], s=5)    # , s=10)\n",
    "f0_warp = interpolate.splev(posit_arr, tck, der=0)\n",
    "\n",
    "    # Set zeros to unvoiced sections\n",
    "f0_uv_idx = [el for el in f0_uv_idx if el < len(f0_warp)]\n",
    "f0_warp[f0_uv_idx] = 0\n",
    "# interpolate.splev?"
   ]
  },
  {
   "cell_type": "code",
   "execution_count": null,
   "metadata": {
    "collapsed": false
   },
   "outputs": [],
   "source": [
    "f1, ax_arr = plt.subplots(2, sharey=True);\n",
    "ax_arr[0].plot(coord_df['time'], coord_df['f0']);\n",
    "ax_arr[0].legend(['f0'], loc='best');\n",
    "ax_arr[1].plot(posit_arr, f0_warp);\n",
    "ax_arr[1].legend(['f0_warp'], loc='best');\n",
    "# plt.plot(coord_df['time'], coord_df['f0'], posit, f0_warp)\n",
    "# plt.legend(['f0', 'f0_warp'], loc='best')"
   ]
  },
  {
   "cell_type": "markdown",
   "metadata": {},
   "source": [
    "##### Interpolate the time array to a STRAIGHT time mapping format (`imap = 1 : 1/(frame_points) : num_frames;`)"
   ]
  },
  {
   "cell_type": "code",
   "execution_count": null,
   "metadata": {
    "collapsed": false
   },
   "outputs": [],
   "source": [
    "plt.plot(f0_warp)\n",
    "plt.legend(['f0_warp'], loc='best')\n",
    "plt.plot(f0_orig_arr)\n",
    "plt.legend(['f0_orig'], loc='best')\n",
    "# plt.show();\n",
    "# print(len(f0_warp), len(f0_orig_arr))"
   ]
  },
  {
   "cell_type": "code",
   "execution_count": null,
   "metadata": {
    "collapsed": false
   },
   "outputs": [],
   "source": [
    "num_frames = len(f0_orig_arr)\n",
    "time_max = coord_df['time_smooth'].max()\n",
    "pos_max = coord_df['pos_smooth'].max()\n",
    "\n",
    "print('num_frames:', num_frames, '\\t', 'time_max:', time_max, '\\t', 'pos_max:', pos_max)"
   ]
  },
  {
   "cell_type": "markdown",
   "metadata": {},
   "source": [
    "Set the number of elements in the imap vector according to the total length of the target duration wav"
   ]
  },
  {
   "cell_type": "code",
   "execution_count": null,
   "metadata": {
    "collapsed": true
   },
   "outputs": [],
   "source": [
    "# imap_idx = np.arange(start=1, stop=num_frames, step=1/frame_points)\n",
    "# num_imap_idxs = int(num_frames*frame_points*(time_max/pos_max))"
   ]
  },
  {
   "cell_type": "code",
   "execution_count": null,
   "metadata": {
    "collapsed": false
   },
   "outputs": [],
   "source": [
    "# target_frame_points_avg = round(frame_points * (time_max/pos_max))\n",
    "target_frame_points_avg = frame_points * (time_max/pos_max)\n",
    "\n",
    "print('global time ratio:', time_max/pos_max)\n",
    "print('target_frame_points_avg:', target_frame_points_avg)"
   ]
  },
  {
   "cell_type": "code",
   "execution_count": null,
   "metadata": {
    "collapsed": true
   },
   "outputs": [],
   "source": [
    "# imap_idx = np.arange(start=1, stop=num_imap_idxs+1)"
   ]
  },
  {
   "cell_type": "code",
   "execution_count": null,
   "metadata": {
    "collapsed": false
   },
   "outputs": [],
   "source": [
    "imap_idx = np.arange(start=1, stop=num_frames, step=1 / (target_frame_points_avg)) #*FS_ERROR_CORR))  # **WRONG FS**\n",
    "# imap_time = imap_idx / num_frames * pos_max / 1.000001    # FIXME: eps val > avoid rounding problem in interpol\n",
    "\n",
    "print('imap_idx:', imap_idx)\n",
    "print(\"Length imap_idx:\", len(imap_idx))"
   ]
  },
  {
   "cell_type": "markdown",
   "metadata": {},
   "source": [
    "Apply the interpollation to the imap vector"
   ]
  },
  {
   "cell_type": "markdown",
   "metadata": {},
   "source": [
    "* TRY: using simple interpollations from `pos_t` to `cpu_t`"
   ]
  },
  {
   "cell_type": "code",
   "execution_count": null,
   "metadata": {
    "collapsed": true
   },
   "outputs": [],
   "source": [
    "# time_interp_fct = interpolate.interp1d(coord_df['pos_smooth'], coord_df['time_smooth'], 'linear')\n",
    "# time_map = time_interp_fct(imap_time)\n",
    "# print('time_map:', time_map)\n",
    "# imap_int = time_map * num_frames / time_max                       # normalize max value to total number of frames"
   ]
  },
  {
   "cell_type": "markdown",
   "metadata": {},
   "source": [
    "* TRY: using simple interpollations `cpu_t` to `pos_t`"
   ]
  },
  {
   "cell_type": "code",
   "execution_count": null,
   "metadata": {
    "collapsed": false
   },
   "outputs": [],
   "source": [
    "imap_time = imap_idx / num_frames * time_max\n",
    "print('imap_time:', imap_time)\n",
    "\n",
    "# time_interp_fct = interpolate.interp1d(coord_df['time_smooth'], coord_df['pos_smooth'], 'linear')\n",
    "# time_map = time_interp_fct(imap_time)\n",
    "time_map = np.interp(x=imap_time, xp=coord_df['time_smooth'], fp=coord_df['pos_smooth'])\n",
    "print('time_map:', time_map)\n",
    "\n",
    "imap = time_map * num_frames / pos_max * FS_ERROR_CORR**2  # **WRONG FS**  # normalize max value to total number of frames\n",
    "print('imap:', imap)\n",
    "\n",
    "plt.plot(imap)\n",
    "plt.legend(['imap'], loc='best');"
   ]
  },
  {
   "cell_type": "markdown",
   "metadata": {},
   "source": [
    "* TRY: using differentials"
   ]
  },
  {
   "cell_type": "code",
   "execution_count": null,
   "metadata": {
    "collapsed": true
   },
   "outputs": [],
   "source": [
    "# imap_time = imap_idx / num_frames * pos_max\n",
    "# imap_idx_diff = np.diff(imap_time)\n",
    "# pos_diff = np.diff(coord_df['pos_smooth'])\n",
    "# time_diff = np.diff(coord_df['time_smooth'])\n",
    "# local_ratio = np.divide(time_diff, pos_diff)\n",
    "# local_ratio_smooth = savitzky_golay(local_ratio, window_size=51, order=3)\n",
    "\n",
    "# plt.plot(coord_df['pos_smooth'].values[:-1], time_diff)\n",
    "# plt.legend(['time_diff'], loc='best')\n",
    "\n",
    "# time_map_diff = np.interp(x=imap_time, xp=coord_df['pos_smooth'].values[1:], fp=local_ratio_smooth)\n",
    "# target_frame_points_arr = time_map_diff*frame_points\n",
    "# imap_diff = np.divide(1, target_frame_points_arr)\n",
    "# imap = np.cumsum(imap_diff)  # FIXME**: integral need a multiplication (cumsum())\n",
    "# imap = imap / imap.max() * num_frames + 1   # FIXME: correct max value, this should be fine without correction!?"
   ]
  },
  {
   "cell_type": "markdown",
   "metadata": {},
   "source": [
    "##### Interpol f0 values to the final wav file time (from STRAIGHT) `# DEBUG TEST!!**`"
   ]
  },
  {
   "cell_type": "code",
   "execution_count": null,
   "metadata": {
    "collapsed": true
   },
   "outputs": [],
   "source": [
    "# time_rnd_max = round(time_max * 2, 2)/2   # round values to 0.005 (0.01/2)\n",
    "# time = np.arange(start=FRAME_DUR, stop=time_rnd_max, step=FRAME_DUR)   # TODO 0 > FRAME_LEN, better solution?\n",
    "# tck = interpolate.splrep(coord_df['time_smooth'], coord_df['f0_smooth'], s=50)    # , s=10)\n",
    "# f0_interp = interpolate.splev(time, tck, der=0)\n",
    "\n",
    "# plt.plot(coord_df['time'], coord_df['f0'], time, f0_interp)\n",
    "# plt.legend(['f0', 'f0_interp'], loc='best')"
   ]
  },
  {
   "cell_type": "markdown",
   "metadata": {},
   "source": [
    "##### Simulate an typically example of an expected imap result   `# DEBUG TEST!!**`"
   ]
  },
  {
   "cell_type": "code",
   "execution_count": null,
   "metadata": {
    "collapsed": false
   },
   "outputs": [],
   "source": [
    "# COEF = 3\n",
    "# imap_1 = np.arange(1, np.round(num_frames/COEF)-1/(frame_points*2), step=1/(frame_points*2))\n",
    "# imap_2 = np.arange(np.round(num_frames/COEF), num_frames, step=1/(frame_points/2))\n",
    "# imap_exp = np.concatenate([imap_1, imap_2])\n",
    "\n",
    "# plt.plot(imap_exp)\n",
    "# plt.legend(['imap_exp'], loc='best');"
   ]
  },
  {
   "cell_type": "markdown",
   "metadata": {},
   "source": [
    "### Write to file"
   ]
  },
  {
   "cell_type": "code",
   "execution_count": null,
   "metadata": {
    "collapsed": false
   },
   "outputs": [],
   "source": [
    "fbase_path = os.path.splitext(FPATH)[0]\n",
    "with open(fbase_path+'.newf0', 'w') as f_newf0:\n",
    "    f0_warp.astype('float32').tofile(f_newf0)     # f0_warp DEBUG\n",
    "#     coord_df['f0_smooth'].values.astype('float32').tofile(f_newf0)\n",
    "with open(fbase_path+'.newpos', 'w') as f_newpos:\n",
    "    imap.astype('float32').tofile(f_newpos)\n",
    "\n",
    "print('Done!')"
   ]
  },
  {
   "cell_type": "code",
   "execution_count": null,
   "metadata": {
    "collapsed": true
   },
   "outputs": [],
   "source": []
  }
 ],
 "metadata": {
  "kernelspec": {
   "display_name": "Python 3",
   "language": "python",
   "name": "python3"
  },
  "language_info": {
   "codemirror_mode": {
    "name": "ipython",
    "version": 3
   },
   "file_extension": ".py",
   "mimetype": "text/x-python",
   "name": "python",
   "nbconvert_exporter": "python",
   "pygments_lexer": "ipython3",
   "version": "3.4.3"
  }
 },
 "nbformat": 4,
 "nbformat_minor": 0
}
