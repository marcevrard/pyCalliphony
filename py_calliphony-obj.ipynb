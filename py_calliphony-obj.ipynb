{
 "metadata": {
  "name": "",
  "signature": "sha256:0fa76a92cd4d2401848d6363d01866e9a50367d6810a13f7504cc5aba234c270"
 },
 "nbformat": 3,
 "nbformat_minor": 0,
 "worksheets": [
  {
   "cells": [
    {
     "cell_type": "heading",
     "level": 3,
     "metadata": {},
     "source": [
      "Intro"
     ]
    },
    {
     "cell_type": "code",
     "collapsed": false,
     "input": [
      "%reset  -sf\n",
      "# -sf  # (s for soft, f for forced without approval)\n",
      "%matplotlib inline"
     ],
     "language": "python",
     "metadata": {},
     "outputs": [],
     "prompt_number": 1
    },
    {
     "cell_type": "code",
     "collapsed": false,
     "input": [
      "import pandas as pd\n",
      "import numpy as np\n",
      "import matplotlib.pyplot as plt\n",
      "from scipy import interpolate\n",
      "import os.path"
     ],
     "language": "python",
     "metadata": {},
     "outputs": [],
     "prompt_number": 2
    },
    {
     "cell_type": "code",
     "collapsed": false,
     "input": [
      "import sys\n",
      "sys.path.append('/Volumes/Python/pyCalliphony')\n",
      "from savitzki_golay import savitzky_golay"
     ],
     "language": "python",
     "metadata": {},
     "outputs": [],
     "prompt_number": 3
    },
    {
     "cell_type": "heading",
     "level": 3,
     "metadata": {},
     "source": [
      "Constants"
     ]
    },
    {
     "cell_type": "code",
     "collapsed": false,
     "input": [
      "HEADERS = ('cpu_time', 'position', 'f0')\n",
      "FRAME_DUR = 0.005\n",
      "FS = 48000\n",
      "frame_points = int(round(FRAME_DUR*FS))"
     ],
     "language": "python",
     "metadata": {},
     "outputs": [],
     "prompt_number": 4
    },
    {
     "cell_type": "heading",
     "level": 5,
     "metadata": {},
     "source": [
      "Paths  `# << FILE NAME TO UPDATE! >>`"
     ]
    },
    {
     "cell_type": "code",
     "collapsed": false,
     "input": [
      "FNAME = 'limsi_fr_tat_0002_perf_00.txt'  # << FNAME TO UPDATE! >>\n",
      "PATH = '/Users/mev/Desktop/Calliphony_SD/matlab/corpus_marc'\n",
      "FPATH = os.path.join(PATH, FNAME)\n",
      "if not os.path.isfile(FPATH):\n",
      "    raise ValueError(\"File %s is not present in the given path!\" % FPATH)"
     ],
     "language": "python",
     "metadata": {},
     "outputs": [],
     "prompt_number": 5
    },
    {
     "cell_type": "heading",
     "level": 3,
     "metadata": {},
     "source": [
      "Main"
     ]
    },
    {
     "cell_type": "code",
     "collapsed": false,
     "input": [
      "class PyCalliStraightConv:\n",
      "    \"\"\"\n",
      "    Class to convert calliphony tablette coordinates to straight\n",
      "    \"\"\"\n",
      "    def __init__(self, coord_fpath):\n",
      "        \"\"\"Import and format in DataFrame the raw input coordinated\"\"\"\n",
      "        self.coord_fpath = coord_fpath\n",
      "        self.main_path, self.coord_fname = os.path.split(coord_fpath)\n",
      "        # Reshape according to the headers num and all row (-1)\n",
      "        self.coord_arr = np.genfromtxt(coord_fpath).reshape(-1, len(HEADERS))\n",
      "        self.coord_df = pd.DataFrame(coord_arr, columns=HEADERS)"
     ],
     "language": "python",
     "metadata": {},
     "outputs": []
    },
    {
     "cell_type": "markdown",
     "metadata": {},
     "source": [
      "coord_np = np.genfromtxt(FPATH).reshape(-1, len(HEADERS))\n",
      "coord_df = pd.DataFrame(coord_np, columns=HEADERS)"
     ]
    },
    {
     "cell_type": "markdown",
     "metadata": {},
     "source": [
      "Include the original f0 file: to get the number of samples and to get the VUV param"
     ]
    },
    {
     "cell_type": "code",
     "collapsed": false,
     "input": [
      "    def import_f0(self):\n",
      "        \"\"\"Import f0 from STRAIGHT\"\"\"\n",
      "        f0_fpath = os.path.join(self.main_path, '_'.join(self.coord_fname.split('_')[:4]) + '.f0')\n",
      "        \n",
      "        self.f0_orig_arr = np.fromfile(f0_fpath, dtype='f4')\n",
      "        self.f0_uv_idx = np.where(self.f0_orig_arr == 0)[0]  # Unvoiced indexes\n",
      "    \n",
      "    def plot_f0(self):\n",
      "        # print('f0_uv_idx:', f0_uv_idx)\n",
      "        plt.plot(self.f0_orig_arr)\n",
      "        plt.legend(['f0_orig_np'], loc='best')"
     ],
     "language": "python",
     "metadata": {},
     "outputs": [
      {
       "metadata": {},
       "output_type": "pyout",
       "prompt_number": 7,
       "text": [
        "<matplotlib.legend.Legend at 0x10928ebe0>"
       ]
      },
      {
       "metadata": {},
       "output_type": "display_data",
       "png": "[encoded data removed]",
       "text": [
        "<matplotlib.figure.Figure at 0x10928eba8>"
       ]
      }
     ],
     "prompt_number": 7
    },
    {
     "cell_type": "markdown",
     "metadata": {},
     "source": [
      "Extract relative time from CPU time"
     ]
    },
    {
     "cell_type": "code",
     "collapsed": false,
     "input": [
      "    def extract_time(self):\n",
      "        \"\"\"Extract relative time from CPU time\"\"\"\n",
      "        coord_time = self.coord_df['cpu_time'] - self.coord_df.iloc[0]['cpu_time']\n",
      "        # Insert in df after cpu_time column (and express in s (from ms))\n",
      "        self.coord_df.insert(1, 'time', coord_time/1000)\n",
      "        \n",
      "    def plot_time(self):\n",
      "        plt.plot(self.coord_df['time'])\n",
      "        plt.plot(self.coord_df['position'])\n",
      "        plt.legend(['time', 'position'], loc='best')"
     ],
     "language": "python",
     "metadata": {},
     "outputs": [
      {
       "metadata": {},
       "output_type": "pyout",
       "prompt_number": 8,
       "text": [
        "<matplotlib.legend.Legend at 0x1093a5e48>"
       ]
      },
      {
       "metadata": {},
       "output_type": "display_data",
       "png": "[encoded data removed]",
       "text": [
        "<matplotlib.figure.Figure at 0x10928e240>"
       ]
      }
     ],
     "prompt_number": 8
    },
    {
     "cell_type": "markdown",
     "metadata": {},
     "source": [
      "Smooth time and f0 curves"
     ]
    },
    {
     "cell_type": "code",
     "collapsed": false,
     "input": [
      "    def smooth_curves(self):\n",
      "        \"\"\"Smooth time and f0 curves\"\"\"\n",
      "        self.coord_df['time_smooth'] = savitzky_golay(np.array(self.coord_df['time']), window_size=21, order=2)\n",
      "        self.coord_df['pos_smooth'] = savitzky_golay(np.array(self.coord_df['position']), window_size=21, order=2)\n",
      "        self.coord_df['f0_smooth'] = savitzky_golay(np.array(self.coord_df['f0']), window_size=21, order=2)\n",
      "\n",
      "    def plot_smoothed_curves(self):\n",
      "        # plt.plot(coord_df['time'], coord_df['position'], coord_df['time_smooth'], coord_df['pos_smooth'])\n",
      "        # plt.legend(['position', 'position_smooth'], loc='best')\n",
      "        plt.plot(self.coord_df['time'], self.coord_df['f0'], self.coord_df['time_smooth'], self.coord_df['f0_smooth'])\n",
      "        plt.legend(['f0', 'f0_smooth'], loc='best')"
     ],
     "language": "python",
     "metadata": {},
     "outputs": [
      {
       "metadata": {},
       "output_type": "pyout",
       "prompt_number": 9,
       "text": [
        "<matplotlib.legend.Legend at 0x10931a438>"
       ]
      },
      {
       "metadata": {},
       "output_type": "display_data",
       "png": "[encoded data removed]",
       "text": [
        "<matplotlib.figure.Figure at 0x10930da90>"
       ]
      }
     ],
     "prompt_number": 9
    },
    {
     "cell_type": "markdown",
     "metadata": {},
     "source": [
      "Warp f0 values to the original wav file time (from STRAIGHT)"
     ]
    },
    {
     "cell_type": "code",
     "collapsed": false,
     "input": [
      "    def warp_f0(self):\n",
      "        \"\"\"Warp f0 values to the original wav file time (from STRAIGHT)\"\"\"\n",
      "        posit_max = round(self.coord_df['pos_smooth'].iloc[-1] * 2, 2)/2     # round values to 0.005 (0.01/2)\n",
      "        posit = np.arange(start=FRAME_DUR, stop=posit_max, step=FRAME_DUR)   # TODO 0 > FRAME_LEN, better solution?\n",
      "        tck = interpolate.splrep(self.coord_df['pos_smooth'], self.coord_df['f0_smooth'], s=5)    # , s=10)\n",
      "        self.f0_warp = interpolate.splev(posit, tck, der=0)\n",
      "\n",
      "    def set_unvoiced_f0(self):\n",
      "        \"\"\"Set zeros to unvoiced sections\"\"\"\n",
      "        self.f0_uv_idx = [el for el in self.f0_uv_idx if el < len(f0_warp)]\n",
      "        self.f0_warp[self.f0_uv_idx] = 0\n",
      "        \n",
      "    def plot_warped_f0(self):\n",
      "        f, ax_arr = plt.subplots(2, sharey=True)\n",
      "        ax_arr[0].plot(coord_df['time'], coord_df['f0'])\n",
      "        ax_arr[0].legend(['f0'], loc='best')\n",
      "        ax_arr[1].plot(posit, f0_warp)\n",
      "        ax_arr[1].legend(['f0_warp'], loc='best')\n",
      "        # plt.plot(coord_df['time'], coord_df['f0'], posit, f0_warp)\n",
      "        # plt.legend(['f0', 'f0_warp'], loc='best')"
     ],
     "language": "python",
     "metadata": {},
     "outputs": [
      {
       "metadata": {},
       "output_type": "pyout",
       "prompt_number": 10,
       "text": [
        "<matplotlib.legend.Legend at 0x1095a42b0>"
       ]
      },
      {
       "metadata": {},
       "output_type": "display_data",
       "png": "[encoded data removed]",
       "text": [
        "<matplotlib.figure.Figure at 0x1093ee5f8>"
       ]
      }
     ],
     "prompt_number": 10
    },
    {
     "cell_type": "heading",
     "level": 5,
     "metadata": {},
     "source": [
      "Interpolate the time array to a STRAIGHT time mapping format (`imap = 1 : 1/(frame_points) : num_frames;`)"
     ]
    },
    {
     "cell_type": "code",
     "collapsed": false,
     "input": [
      "# num_frames = len(coord_df['time_smooth'])"
     ],
     "language": "python",
     "metadata": {},
     "outputs": [],
     "prompt_number": 11
    },
    {
     "cell_type": "code",
     "collapsed": false,
     "input": [
      "num_frames = len(f0_orig_np)\n",
      "time_max = coord_df['time_smooth'].max()\n",
      "pos_max = coord_df['pos_smooth'].max()\n",
      "\n",
      "print('num_frames:', num_frames, '\\t', 'time_max:', time_max, '\\t', 'pos_max:', pos_max)"
     ],
     "language": "python",
     "metadata": {},
     "outputs": [
      {
       "output_type": "stream",
       "stream": "stdout",
       "text": [
        "num_frames: 657 \t time_max: 3.473154297 \t pos_max: 2.940021\n"
       ]
      }
     ],
     "prompt_number": 12
    },
    {
     "cell_type": "markdown",
     "metadata": {},
     "source": [
      "Set the number of elements in the imap vector according to the total length of the target duration wav"
     ]
    },
    {
     "cell_type": "code",
     "collapsed": false,
     "input": [
      "# imap_idx = np.arange(start=1, stop=num_frames, step=1/frame_points)\n",
      "# num_imap_idxs = int(num_frames*frame_points*(time_max/pos_max))"
     ],
     "language": "python",
     "metadata": {},
     "outputs": [],
     "prompt_number": 13
    },
    {
     "cell_type": "code",
     "collapsed": false,
     "input": [
      "target_frame_points_avg = round(frame_points * (time_max/pos_max))\n",
      "\n",
      "print('global time ratio:', time_max/pos_max)\n",
      "print('target_frame_points_avg:', target_frame_points_avg)"
     ],
     "language": "python",
     "metadata": {},
     "outputs": [
      {
       "output_type": "stream",
       "stream": "stdout",
       "text": [
        "global time ratio: 1.18133656086\n",
        "target_frame_points_avg: 284.0\n"
       ]
      }
     ],
     "prompt_number": 14
    },
    {
     "cell_type": "code",
     "collapsed": false,
     "input": [
      "# imap_idx = np.arange(start=1, stop=num_imap_idxs+1)"
     ],
     "language": "python",
     "metadata": {},
     "outputs": [],
     "prompt_number": 15
    },
    {
     "cell_type": "code",
     "collapsed": false,
     "input": [
      "imap_idx = np.arange(start=1, stop=num_frames, step=1/target_frame_points_avg)\n",
      "# imap_time = imap_idx / num_frames * pos_max / 1.000001    # FIXME: eps val > avoid rounding problem in interpol\n",
      "\n",
      "print('imap_idx:', imap_idx)"
     ],
     "language": "python",
     "metadata": {},
     "outputs": [
      {
       "output_type": "stream",
       "stream": "stdout",
       "text": [
        "imap_idx: [   1.            1.00352113    1.00704225 ...,  656.98943662  656.99295775\n",
        "  656.99647887]\n"
       ]
      }
     ],
     "prompt_number": 16
    },
    {
     "cell_type": "markdown",
     "metadata": {},
     "source": [
      "Apply the interpollation to the imap vector"
     ]
    },
    {
     "cell_type": "markdown",
     "metadata": {},
     "source": [
      "* TRY: using simple interpollations from `pos_t` to `cpu_t`"
     ]
    },
    {
     "cell_type": "code",
     "collapsed": false,
     "input": [
      "# time_interp_fct = interpolate.interp1d(coord_df['pos_smooth'], coord_df['time_smooth'], 'linear')\n",
      "# time_map = time_interp_fct(imap_time)\n",
      "# print('time_map:', time_map)\n",
      "# imap_int = time_map * num_frames / time_max                       # normalize max value to total number of frames"
     ],
     "language": "python",
     "metadata": {},
     "outputs": [],
     "prompt_number": 17
    },
    {
     "cell_type": "markdown",
     "metadata": {},
     "source": [
      "* TRY: using simple interpollations `cpu_t` to `pos_t`"
     ]
    },
    {
     "cell_type": "code",
     "collapsed": false,
     "input": [
      "imap_time = imap_idx / num_frames * time_max\n",
      "print('imap_time:', imap_time)\n",
      "\n",
      "# time_interp_fct = interpolate.interp1d(coord_df['time_smooth'], coord_df['pos_smooth'], 'linear')\n",
      "# time_map = time_interp_fct(imap_time)\n",
      "time_map = np.interp(x=imap_time, xp=coord_df['time_smooth'], fp=coord_df['pos_smooth'])\n",
      "print('time_map:', time_map)\n",
      "\n",
      "imap = time_map * num_frames / pos_max                       # normalize max value to total number of frames\n",
      "print('imap:', imap)\n",
      "\n",
      "plt.plot(imap)\n",
      "plt.legend(['imap'], loc='best')"
     ],
     "language": "python",
     "metadata": {},
     "outputs": [
      {
       "output_type": "stream",
       "stream": "stdout",
       "text": [
        "imap_time: [ 0.00528638  0.005305    0.00532361 ...,  3.47309845  3.47311707\n",
        "  3.47313568]\n",
        "time_map: [ 0.00358349  0.00359604  0.00360858 ...,  2.93996307  2.93998238\n",
        "  2.94000169]\n",
        "imap: [   0.80079531    0.80359848    0.80640166 ...,  656.98705502  656.99137001\n",
        "  656.99568501]\n"
       ]
      },
      {
       "metadata": {},
       "output_type": "pyout",
       "prompt_number": 18,
       "text": [
        "<matplotlib.legend.Legend at 0x1093f6c18>"
       ]
      },
      {
       "metadata": {},
       "output_type": "display_data",
       "png": "[encoded data removed]",
       "text": [
        "<matplotlib.figure.Figure at 0x1093f6ef0>"
       ]
      }
     ],
     "prompt_number": 18
    },
    {
     "cell_type": "markdown",
     "metadata": {},
     "source": [
      "* TRY: using differentials"
     ]
    },
    {
     "cell_type": "code",
     "collapsed": false,
     "input": [
      "# imap_time = imap_idx / num_frames * pos_max\n",
      "# imap_idx_diff = np.diff(imap_time)\n",
      "# pos_diff = np.diff(coord_df['pos_smooth'])\n",
      "# time_diff = np.diff(coord_df['time_smooth'])\n",
      "# local_ratio = np.divide(time_diff, pos_diff)\n",
      "# local_ratio_smooth = savitzky_golay(local_ratio, window_size=51, order=3)\n",
      "\n",
      "# plt.plot(coord_df['pos_smooth'].values[:-1], time_diff)\n",
      "# plt.legend(['time_diff'], loc='best')\n",
      "\n",
      "# time_map_diff = np.interp(x=imap_time, xp=coord_df['pos_smooth'].values[1:], fp=local_ratio_smooth)\n",
      "# target_frame_points_np = time_map_diff*frame_points\n",
      "# imap_diff = np.divide(1, target_frame_points_np)\n",
      "# imap = np.cumsum(imap_diff)  # FIXME**: integral need a multiplication (cumsum())\n",
      "# imap = imap / imap.max() * num_frames + 1   # FIXME: correct max value, this should be fine without correction!?"
     ],
     "language": "python",
     "metadata": {},
     "outputs": [],
     "prompt_number": 19
    },
    {
     "cell_type": "heading",
     "level": 5,
     "metadata": {},
     "source": [
      "Interpol f0 values to the final wav file time (from STRAIGHT) `# DEBUG TEST!!**`"
     ]
    },
    {
     "cell_type": "code",
     "collapsed": false,
     "input": [
      "# time_rnd_max = round(time_max * 2, 2)/2   # round values to 0.005 (0.01/2)\n",
      "# time = np.arange(start=FRAME_DUR, stop=time_rnd_max, step=FRAME_DUR)   # TODO 0 > FRAME_LEN, better solution?\n",
      "# tck = interpolate.splrep(coord_df['time_smooth'], coord_df['f0_smooth'], s=50)    # , s=10)\n",
      "# f0_interp = interpolate.splev(time, tck, der=0)\n",
      "\n",
      "# plt.plot(coord_df['time'], coord_df['f0'], time, f0_interp)\n",
      "# plt.legend(['f0', 'f0_interp'], loc='best')"
     ],
     "language": "python",
     "metadata": {},
     "outputs": [],
     "prompt_number": 20
    },
    {
     "cell_type": "heading",
     "level": 5,
     "metadata": {},
     "source": [
      "Simulate an typically expected imap result   `# DEBUG TEST!!**`"
     ]
    },
    {
     "cell_type": "code",
     "collapsed": false,
     "input": [
      "COEF = 3\n",
      "imap_1 = np.arange(1, np.round(num_frames/COEF)-1/(frame_points*2), step=1/(frame_points*2))\n",
      "imap_2 = np.arange(np.round(num_frames/COEF), num_frames, step=1/(frame_points/2))\n",
      "imap_exp = np.concatenate([imap_1, imap_2])\n",
      "\n",
      "plt.plot(imap_exp)\n",
      "plt.legend(['imap_exp'], loc='best')"
     ],
     "language": "python",
     "metadata": {},
     "outputs": [
      {
       "metadata": {},
       "output_type": "pyout",
       "prompt_number": 21,
       "text": [
        "<matplotlib.legend.Legend at 0x1095f3cf8>"
       ]
      },
      {
       "metadata": {},
       "output_type": "display_data",
       "png": "[encoded data removed]",
       "text": [
        "<matplotlib.figure.Figure at 0x1095f3dd8>"
       ]
      }
     ],
     "prompt_number": 21
    },
    {
     "cell_type": "heading",
     "level": 3,
     "metadata": {},
     "source": [
      "Write to file\n"
     ]
    },
    {
     "cell_type": "code",
     "collapsed": false,
     "input": [
      "fbase_path = os.path.splitext(FPATH)[0]\n",
      "with open(fbase_path+'.newf0', 'w') as f_newf0:\n",
      "    f0_warp.astype('float32').tofile(f_newf0)     # f0_warp DEBUG\n",
      "#     coord_df['f0_smooth'].values.astype('float32').tofile(f_newf0)\n",
      "with open(fbase_path+'.newpos', 'w') as f_newpos:\n",
      "    imap.astype('float32').tofile(f_newpos)\n",
      "\n",
      "print('Done!')"
     ],
     "language": "python",
     "metadata": {},
     "outputs": [
      {
       "output_type": "stream",
       "stream": "stdout",
       "text": [
        "Done!\n"
       ]
      }
     ],
     "prompt_number": 22
    },
    {
     "cell_type": "code",
     "collapsed": false,
     "input": [],
     "language": "python",
     "metadata": {},
     "outputs": [],
     "prompt_number": 22
    }
   ],
   "metadata": {}
  }
 ]
}